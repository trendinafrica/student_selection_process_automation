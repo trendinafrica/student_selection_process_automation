{
 "cells": [
  {
   "cell_type": "markdown",
   "id": "d02ab61b-1c4d-4f32-8b88-b920253a508e",
   "metadata": {},
   "source": [
    "# Applications Weighted Grading Automation\n",
    "\n",
    "The main objecctive of this code is to automate the process of calculating the overall weighted grade of students' responses, from the weights and grades given to each question from the graded questions."
   ]
  },
  {
   "cell_type": "code",
   "execution_count": null,
   "id": "c6ae4d35-1b4c-4312-8eb0-be66961d5b9a",
   "metadata": {},
   "outputs": [],
   "source": [
    "import numpy as np\n",
    "import pandas as pd"
   ]
  },
  {
   "cell_type": "code",
   "execution_count": null,
   "id": "cb2ac9c4-6e6f-4461-b75c-4bc65bca43f9",
   "metadata": {},
   "outputs": [],
   "source": [
    "# Note that you have to download the responses data Excel sheet from Google Drive and put it in the same folder as the code.\n",
    "# You don't have to do this if you cloned the Github repo (all will be organized in the repo).\n",
    " \n",
    "# TODO: Load data directly from Google Drive.\n",
    "\n",
    "# Loading students responses data\n",
    "STD_DATA_DIR = './Graded TReND Comp Neuro application form Rwanda 2024 (Responses).xlsx'\n",
    "grd_stdn_df = pd.read_excel(STD_DATA_DIR)"
   ]
  },
  {
   "cell_type": "code",
   "execution_count": null,
   "id": "b5e43c57-a2da-4e90-9180-32d40ae5adff",
   "metadata": {},
   "outputs": [],
   "source": [
    "# Use this dictionary as a reference for column names.\n",
    "\n",
    "std_questions_dict = {i: column for i, column in enumerate(std_raw_responses_df.columns)}\n",
    "std_questions_dict"
   ]
  },
  {
   "cell_type": "code",
   "execution_count": null,
   "id": "8f93a1ca-6a1b-430a-a563-7f54660a2c46",
   "metadata": {},
   "outputs": [],
   "source": []
  }
 ],
 "metadata": {
  "kernelspec": {
   "display_name": "Python [conda env:root] *",
   "language": "python",
   "name": "conda-root-py"
  },
  "language_info": {
   "codemirror_mode": {
    "name": "ipython",
    "version": 3
   },
   "file_extension": ".py",
   "mimetype": "text/x-python",
   "name": "python",
   "nbconvert_exporter": "python",
   "pygments_lexer": "ipython3",
   "version": "3.9.13"
  }
 },
 "nbformat": 4,
 "nbformat_minor": 5
}
