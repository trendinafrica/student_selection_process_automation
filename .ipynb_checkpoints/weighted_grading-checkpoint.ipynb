{
 "cells": [
  {
   "cell_type": "markdown",
   "id": "d02ab61b-1c4d-4f32-8b88-b920253a508e",
   "metadata": {},
   "source": [
    "# Applications Weighted Grading Automation\n",
    "\n",
    "(*By: [@mahmoud-elmakki](https://github.com/mahmoud-elmakki)*)\n",
    "\n",
    "The main objecctive of this code is to automate the process of calculating the overall weighted grade of students' responses, from the weights and grades given to each question from the graded questions."
   ]
  },
  {
   "cell_type": "code",
   "execution_count": null,
   "id": "c6ae4d35-1b4c-4312-8eb0-be66961d5b9a",
   "metadata": {},
   "outputs": [],
   "source": [
    "import numpy as np\n",
    "import pandas as pd\n",
    "\n",
    "import os"
   ]
  },
  {
   "cell_type": "code",
   "execution_count": null,
   "id": "cb2ac9c4-6e6f-4461-b75c-4bc65bca43f9",
   "metadata": {},
   "outputs": [],
   "source": [
    "# Note that you have to download the responses data Excel sheet from Google Drive and put it in the same folder as the code.\n",
    "# You don't have to do this if you cloned the Github repo (all will be organized in the repo).\n",
    " \n",
    "# TODO: Load data directly from Google Drive.\n",
    "\n",
    "# Loading students responses data\n",
    "GRD_STDN_DATA_DIR = './responses_with_graded_answers/Graded TReND Comp Neuro application form Rwanda 2024 (Responses).xlsx'\n",
    "grd_stdn_df = pd.read_excel(GRD_STDN_DATA_DIR)\n",
    "\n",
    "grd_stdn_df['Total Grade'] = None\n",
    "\n",
    "# Just specify folder names - thje code will create the directory\n",
    "OUTPUT_FOLDER_NAME = \"final_output\"\n",
    "OUTPUT_DIR = os.path.join(os.getcwd(), OUTPUT_FOLDER_NAME)\n",
    "\n",
    "if not os.path.exists(OUTPUT_DIR):\n",
    "    os.mkdir(OUTPUT_DIR)"
   ]
  },
  {
   "cell_type": "code",
   "execution_count": null,
   "id": "b5e43c57-a2da-4e90-9180-32d40ae5adff",
   "metadata": {},
   "outputs": [],
   "source": [
    "# Use this dictionary as a reference for column names.\n",
    "\n",
    "qs_dict = {i: column for i, column in enumerate(grd_stdn_df.columns)}\n",
    "qs_dict"
   ]
  },
  {
   "cell_type": "code",
   "execution_count": null,
   "id": "8f93a1ca-6a1b-430a-a563-7f54660a2c46",
   "metadata": {},
   "outputs": [],
   "source": [
    "# Used indices of the student responses DataFrame\n",
    "\n",
    "stdn_idcs = {\n",
    "    'email_idx' : 1,\n",
    "    'firstname_idx' : 2,\n",
    "    'lastname_idx' : 3,\n",
    "    'ref' : {\n",
    "        'first_ref_email_idx' : 25,\n",
    "        'second_ref_email_idx' : 27\n",
    "          },\n",
    "    'flag_idx' : 28,\n",
    "    'notes_idx' : 29,\n",
    "    'first_recomm_letter_idx' : 30,\n",
    "    'second_recomm_letter_idx' : 31,\n",
    "    'grade_idx': 28\n",
    "}\n",
    "\n",
    "stdn_str_qs = [stdn_idcs['email_idx'], stdn_idcs['firstname_idx'], stdn_idcs['lastname_idx']]\n",
    "\n",
    "# Carefully specify names of the columns to be processed (mostly responses for essay questions).\n",
    "skills_qs = [16, 17, 18, 19]\n",
    "skills_qs_ws = [1, 2, 2, 2]\n",
    "\n",
    "# Carefully specify names of the columns to be processed (mostly responses for essay questions).\n",
    "essay_qs = [20, 21, 22]\n",
    "essay_qs_ws = [3, 3, 2]\n",
    "\n",
    "grd_qs = skills_qs + essay_qs\n",
    "weights = skills_qs_ws + essay_qs_ws\n",
    "\n",
    "WEIGHTED_GRADIN = True\n",
    "\n",
    "if not WEIGHTED_GRADIN:\n",
    "    weights = [1, 1, 1, 1, 1, 1, 1]\n",
    "\n",
    "# Number of students to be selected.\n",
    "TOP_N = 20\n",
    "\n",
    "if TOP_N < len(grd_stdn_df):\n",
    "    TOP_N = len(grd_stdn_df)"
   ]
  },
  {
   "cell_type": "code",
   "execution_count": null,
   "id": "69811a8e-9402-4cd8-bae6-f55da88814d5",
   "metadata": {},
   "outputs": [],
   "source": [
    "skills_qs_dict = {\n",
    "    \n",
    "    16: {\n",
    "        'Have not done any computer programming': 2,\n",
    "        'Learned some, edited scripts': 4,\n",
    "        'Have written my own sets of code': 6,\n",
    "        'Have written my own complete programs': 8,\n",
    "        'I am completely comfortable writing my own programs': 10\n",
    "        \n",
    "    },\n",
    "    \n",
    "    17: {\n",
    "        'Have not touched Python yet': 2,\n",
    "        'Learned some, edited scripts': 4,\n",
    "        'Have written my own sets of code': 6,\n",
    "        'Have written my own complete programs': 8,\n",
    "        'I am completely comfortable writing my own programs': 10\n",
    "    },\n",
    "    \n",
    "    18: {\n",
    "        'Have read a bit': 2,\n",
    "        'Have taken an introductory course': 4,\n",
    "        'Have taken several courses': 6,\n",
    "        'Have taken courses and am studying it': 8,\n",
    "        'Extensive experience for 4+ years': 10\n",
    "    },\n",
    "    \n",
    "    19: {\n",
    "        'Have read a bit': 2,\n",
    "        'Have taken an introductory course': 4,\n",
    "        'Have taken several courses': 6,\n",
    "        'Have taken courses and am studying it': 8,\n",
    "        'Extensive experience for 4+ years': 10\n",
    "    }\n",
    "\n",
    "}"
   ]
  },
  {
   "cell_type": "code",
   "execution_count": null,
   "id": "f835beae-9bf9-4557-9ec1-ded5ebf1f980",
   "metadata": {},
   "outputs": [],
   "source": [
    "def column_names_to_indices(df, indices_dict):\n",
    "    \"\"\"\n",
    "    Replaces column names with indices.\n",
    "    \"\"\"\n",
    "    processed_df = df.rename(columns={column: i for i, column in enumerate(indices_dict.values())})\n",
    "\n",
    "    return processed_df\n",
    "\n",
    "\n",
    "def indices_to_column_names(df, indices_dict):\n",
    "    \"\"\"\n",
    "    Replaces indices with column names.\n",
    "    \"\"\"\n",
    "    processed_df = df.rename(columns={i: column for i, column in enumerate(indices_dict.values())})\n",
    "\n",
    "    return processed_df\n",
    "\n",
    "\n",
    "def calc_grade(grd_stdn_df):\n",
    "    \n",
    "    for row_idx in range(len(grd_stdn_df)):\n",
    "        grds = []\n",
    "        \n",
    "        for q in skills_qs:\n",
    "            grd = float(skills_qs_dict[q][grd_stdn_df.iloc[row_idx, q]])\n",
    "            grds.append(grd)\n",
    "            \n",
    "        for q in essay_qs:\n",
    "            grd = float(grd_stdn_df.iloc[row_idx, q])\n",
    "            grds.append(grd)\n",
    "        \n",
    "        weighted_grds = [grds[i] * weights[i] for i in range(len(grds))]\n",
    "        total_grd = float(round(sum(weighted_grds) / sum(weights), 2))\n",
    "        grd_stdn_df.iloc[row_idx, stdn_idcs['grade_idx']] = total_grd\n",
    "            \n",
    "    return grd_stdn_df\n",
    " "
   ]
  },
  {
   "cell_type": "code",
   "execution_count": null,
   "id": "4af91cb0-0a08-4d7a-9176-d161eddf39a7",
   "metadata": {},
   "outputs": [],
   "source": [
    "def main(grd_stdn_df):\n",
    "    \n",
    "    grd_stdn_df = column_names_to_indices(grd_stdn_df, qs_dict)\n",
    "    grd_stdn_df_graded = calc_grade(grd_stdn_df)\n",
    "    grd_stdn_df_sorted = grd_stdn_df_graded.sort_values(by = stdn_idcs['grade_idx'], ascending = False)\n",
    "    \n",
    "    grd_stdn_df_named = indices_to_column_names(grd_stdn_df_sorted, qs_dict)\n",
    "    grd_stdn_df_named.to_excel(OUTPUT_FOLDER_NAME + \"/graded_responses.xlsx\")\n",
    "    \n",
    "    top_n_stnds = grd_stdn_df_sorted.iloc[:TOP_N, :]\n",
    "    \n",
    "    top_n_stnds_nammed = indices_to_column_names(grd_stdn_df_graded, qs_dict)\n",
    "    top_n_stnds_nammed.to_excel(OUTPUT_FOLDER_NAME + \"/top_n_graded_responses.xlsx\")\n",
    "    \n",
    "    return grd_stdn_df_sorted, top_n_stnds"
   ]
  },
  {
   "cell_type": "code",
   "execution_count": null,
   "id": "512fc018-3bc6-45be-9fa3-54269ffc933a",
   "metadata": {},
   "outputs": [],
   "source": [
    "grd_stdn_df_graded, top_n_stnds = main(grd_stdn_df)"
   ]
  },
  {
   "cell_type": "code",
   "execution_count": null,
   "id": "e0ec05b7-b170-48da-9671-967ae63d5e86",
   "metadata": {},
   "outputs": [],
   "source": [
    "grd_stdn_df_graded.iloc[:, stdn_idcs['grade_idx']]"
   ]
  },
  {
   "cell_type": "code",
   "execution_count": null,
   "id": "58e246e3-cfef-4d3b-9e88-af78c1dc85f1",
   "metadata": {},
   "outputs": [],
   "source": [
    "top_n_stnds.iloc[:, stdn_idcs['grade_idx']]"
   ]
  },
  {
   "cell_type": "code",
   "execution_count": null,
   "id": "307c28f6-4e24-4927-807a-e54de6b43fae",
   "metadata": {},
   "outputs": [],
   "source": [
    "top_n_stnds"
   ]
  },
  {
   "cell_type": "code",
   "execution_count": null,
   "id": "d85976d4-299d-4842-9fc3-92a30ea67d8c",
   "metadata": {},
   "outputs": [],
   "source": []
  }
 ],
 "metadata": {
  "kernelspec": {
   "display_name": "Python [conda env:root] *",
   "language": "python",
   "name": "conda-root-py"
  },
  "language_info": {
   "codemirror_mode": {
    "name": "ipython",
    "version": 3
   },
   "file_extension": ".py",
   "mimetype": "text/x-python",
   "name": "python",
   "nbconvert_exporter": "python",
   "pygments_lexer": "ipython3",
   "version": "3.9.13"
  }
 },
 "nbformat": 4,
 "nbformat_minor": 5
}
