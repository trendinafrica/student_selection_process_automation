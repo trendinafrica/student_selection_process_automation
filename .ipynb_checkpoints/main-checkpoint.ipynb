{
 "cells": [
  {
   "cell_type": "markdown",
   "id": "86648c93-943b-4148-be8c-b86c23072b5a",
   "metadata": {},
   "source": [
    "# Applications processing Automation\n",
    "\n",
    "The purpose of this code is to automate the first trivial filtering steps in the processing of the applications for the TReND in Africa Computational Neuroscience and Machine Learning Basics course.\n",
    "\n",
    "This code is organized as a set of functions to be applied as a processing pipeline on the application responses data (See [documentation](https://docs.google.com/document/d/1n4pMEOgMuenuFpN6zXQtZlpYFXwPat2P4-SzZaN8mFg/edit?usp=drivesdk)).\n",
    "\n",
    "### **How to use (as a developer):**\n",
    "Just clone the Github repository and get into the business!\\\n",
    "If you have anaconda and yupyter installed locally you can just clone the repory directly on your machine. Elsewise, you can clone it into Google Colab.\n",
    "(In either case, don't forget to regularly pull and push changes).\n",
    "\n",
    "### **How to use (as a reviewer):**\n",
    "If you are on Github now, open this notebook in Google Colab, or clone the whole repo locally, so you can run the cells. In case of running it in Colab, don't forget to save and download the resulting Excel sheet of the processed responses into a local folder."
   ]
  },
  {
   "cell_type": "code",
   "execution_count": 1,
   "id": "d5561a65-902a-424b-bc94-4b417849e29e",
   "metadata": {
    "tags": []
   },
   "outputs": [],
   "source": [
    "import numpy as np\n",
    "import pandas as pd"
   ]
  },
  {
   "cell_type": "code",
   "execution_count": 15,
   "id": "8b154dc7-4f8f-4d8f-8417-5108fb288621",
   "metadata": {},
   "outputs": [
    {
     "data": {
      "text/plain": [
       "Index(['Timestamp', 'Email address', 'First Name', 'Last Name',\n",
       "       'Date of Birth', 'Nationality', 'Gender', 'Career Stage',\n",
       "       'Name of current University or Research Institution',\n",
       "       'Undergraduate degree (completed or ongoing, eg. Neuroscience, Mathematics)',\n",
       "       'Master's degree (completed or ongoing, if applicable, eg. Neuroscience, Mathematics)',\n",
       "       'PhD degree (completed or ongoing, if applicable, eg. Neuroscience, Mathematics)',\n",
       "       'Current research focus or research focus of the last research project you were engaged in (if applicable)',\n",
       "       'Why would you like to attend the course? (2000 characters max)',\n",
       "       'How do you think you could contribute to the course?  (2000 characters max)',\n",
       "       'At the end of the first week the students will start a short individual research project. What would be your dream project?  (2000 characters max)',\n",
       "       'Please attach a 1-page CV in pdf format (documents longer than one page will be discarded). If you have trouble attaching the file, please send it to compneuroai@trendinafrica.org with the name name_surname_CV.pdf',\n",
       "       'Evaluation of Students', 'flag', 'notes'],\n",
       "      dtype='object')"
      ]
     },
     "execution_count": 15,
     "metadata": {},
     "output_type": "execute_result"
    }
   ],
   "source": [
    "# Note that you have to download the responses data Excel sheet from Google Drive and put it in the same folder as the code.\n",
    "# You don't have to do this if you cloned the Github repo (all will be organized in the repo).\n",
    "\n",
    "# TODO: Load data directly from Google Drive.\n",
    "\n",
    "DATA_DIR = './Copy of Answers_Application_form_TReND_Comp_Neuro_FIRSTPASS.xlsx'\n",
    "\n",
    "responses_df = pd.read_excel(DATA_DIR)\n",
    "\n",
    "# Adding two columns to the responses DataFrame (initialized with None for all cells).\n",
    "responses_df['flag'] = None  #String (\"flagged\" or None\n",
    "responses_df['notes'] = None #String (Text of notes == reasaons for flagging)\n",
    "\n",
    "responses_df.columns"
   ]
  },
  {
   "cell_type": "code",
   "execution_count": 6,
   "id": "9765daba-961b-4024-bced-95847f8cd825",
   "metadata": {},
   "outputs": [],
   "source": [
    "# Carefully specify names of the columns to be processed (mostly responses for essay questions).\n",
    "\n",
    "# TODO: To avoid any naming mistakes, replace questions, as columns names, with a key (or simply, indexes).\n",
    "\n",
    "essay_qs = [\n",
    "    'Why would you like to attend the course? (2000 characters max)',\n",
    "    'How do you think you could contribute to the course?  (2000 characters max)',\n",
    "    'At the end of the first week the students will start a short individual research project. What would be your dream project?  (2000 characters max)'\n",
    "]"
   ]
  },
  {
   "cell_type": "code",
   "execution_count": 11,
   "id": "c098d061-c2d2-41e7-8ae9-fc7f8f640ea7",
   "metadata": {},
   "outputs": [],
   "source": [
    "# Specify the minimum and maximun number of words for ansewrs for essay questions.\n",
    "# Note: These parameters apply for for all essay questions.\n",
    "\n",
    "MIN_WORDS_NUM = 50\n",
    "MAX_WORDS_NUM = 2000"
   ]
  },
  {
   "cell_type": "markdown",
   "id": "44138fe5-309e-4f87-ad94-532b52df55d3",
   "metadata": {},
   "source": [
    "## Utility functions"
   ]
  },
  {
   "cell_type": "code",
   "execution_count": 2,
   "id": "9eb2db56-8054-4e0f-9ec9-0748f2937a95",
   "metadata": {},
   "outputs": [],
   "source": [
    "def word_count(answer):\n",
    "    \"\"\"\n",
    "    Takes a specific answer (cell) of a specific essay question and returns the answer's number of words.\n",
    "    \"\"\"\n",
    "    \n",
    "    return len(answer.split())\n",
    "\n",
    "\n",
    "def set_flag(responses_df, email):\n",
    "    \"\"\"\n",
    "    Set the 'flag' column value to \"flagged\" for a response chosen by it's 'Email address'\n",
    "    \"\"\"\n",
    "    \n",
    "    # This modifies the DataFrame itself (i.e change in place)\n",
    "    responses_df.loc[responses_df['Email address'] == email, 'flag'] = \"flagged\""
   ]
  },
  {
   "cell_type": "markdown",
   "id": "02a1215f-aea3-47ee-a4e2-a91410822c4a",
   "metadata": {},
   "source": [
    "## Main Pipeline"
   ]
  },
  {
   "cell_type": "code",
   "execution_count": 3,
   "id": "b93f7967-a7e6-47a4-a80c-aa765259dd75",
   "metadata": {},
   "outputs": [],
   "source": [
    "def remove_duplicates(responses_df):\n",
    "    \"\"\"\n",
    "    removes duplicated rows (responses) based on 'Email address' and keeps the last response submitted.\n",
    "    Note: Some students may make changes to their responses and submit a new one,\n",
    "    this's why this function keeps the last response submitted and removes preceding ones.\n",
    "    \n",
    "    TODO: Check with the organizers what else is an adequate action.\n",
    "    \n",
    "    params :\n",
    "        response_df: the responses data (DataFrame)\n",
    "    returns:\n",
    "        response_df: An edited response_df with duplicates removed\n",
    "    \"\"\"\n",
    "    \n",
    "    responses_df.drop_duplicates(subset=['Email address'], keep='last')\n",
    "\n",
    "\n",
    "def flag_duplicates(responses_df):\n",
    "    \"\"\"\n",
    "    flags duplicated rows (responses) based on 'Email address' and keeps the last response submitted.\n",
    "    Note: Some students may make changes to their responses and submit a new one,\n",
    "    this's why this function keeps the last response submitted and removes preceding ones.\n",
    "    \n",
    "    TODO: Check with the organizers what else is an adequate action.\n",
    "    \n",
    "    params :\n",
    "        response_df: the responses data (DataFrame)\n",
    "    returns:\n",
    "        responses_df: An edited responses_df with 'flag' column updated\n",
    "    \"\"\"\n",
    "    \n",
    "    responses_df['flag'], responses_df['notes'] = np.where(\n",
    "        \n",
    "        # True/False nupmy array (True: duplicated, False: unique)\n",
    "        responses_df.duplicated(subset=['Email address'], keep='last'),\n",
    "        \n",
    "        # Update row values if the corresponding True/False array element is True\n",
    "        ['flagged', responses_df['notes'] + \" - \" + \"A duplicated response\" + \" - \"],\n",
    "        \n",
    "        # Leave row values as they were if the corresponding True/False array element is False\n",
    "        [response_df['flag'], responses_df['notes']]\n",
    "    )\n",
    "\n",
    "\n",
    "def flag_short(responses_df, essay_qs):\n",
    "    \"\"\"\n",
    "    flags insufficently short answers (less than a specific lower limit) for a specified\n",
    "    set of essay questions.\n",
    "    \n",
    "    params :\n",
    "        response_df: the responses data (DataFrame)\n",
    "        essay_qs   : essay questions (list)\n",
    "    returns:\n",
    "        response_df: An edited responses_df with short answers removed\n",
    "    \"\"\"\n",
    "     \n",
    "    # Go through all the responses and for each response go through the answers for the essay questions\n",
    "    for index, response in responses_df.iterrows():\n",
    "        for question in essay_qs:\n",
    "            \n",
    "            if response[question] < MIN_WORDS_NUM:\n",
    "                responses['flag'] = \"flagged\"\n",
    "                responses['notes'] = responses_df['notes'] + \" - \" + \"Insufficient short answer/s\" + \" - \""
   ]
  },
  {
   "cell_type": "code",
   "execution_count": null,
   "id": "198cd6be-8359-465c-afe4-1a3a3c478a5e",
   "metadata": {},
   "outputs": [],
   "source": []
  }
 ],
 "metadata": {
  "kernelspec": {
   "display_name": "Python [conda env:root] *",
   "language": "python",
   "name": "conda-root-py"
  },
  "language_info": {
   "codemirror_mode": {
    "name": "ipython",
    "version": 3
   },
   "file_extension": ".py",
   "mimetype": "text/x-python",
   "name": "python",
   "nbconvert_exporter": "python",
   "pygments_lexer": "ipython3",
   "version": "3.9.13"
  }
 },
 "nbformat": 4,
 "nbformat_minor": 5
}
