{
 "cells": [
  {
   "cell_type": "markdown",
   "id": "d02ab61b-1c4d-4f32-8b88-b920253a508e",
   "metadata": {},
   "source": [
    "# Applications Weighted Grading Automation\n",
    "\n",
    "The main objecctive of this code is to automate the process of calculating the overall weighted grade of students' responses, from the weights and grades given to each question from the graded questions."
   ]
  },
  {
   "cell_type": "code",
   "execution_count": 2,
   "id": "c6ae4d35-1b4c-4312-8eb0-be66961d5b9a",
   "metadata": {},
   "outputs": [],
   "source": [
    "import numpy as np\n",
    "import pandas as pd"
   ]
  },
  {
   "cell_type": "code",
   "execution_count": 3,
   "id": "cb2ac9c4-6e6f-4461-b75c-4bc65bca43f9",
   "metadata": {},
   "outputs": [],
   "source": [
    "# Note that you have to download the responses data Excel sheet from Google Drive and put it in the same folder as the code.\n",
    "# You don't have to do this if you cloned the Github repo (all will be organized in the repo).\n",
    " \n",
    "# TODO: Load data directly from Google Drive.\n",
    "\n",
    "# Loading students responses data\n",
    "GRD_STDN_DATA_DIR = './Graded TReND Comp Neuro application form Rwanda 2024 (Responses).xlsx'\n",
    "grd_stdn_df = pd.read_excel(GRD_STDN_DATA_DIR)\n",
    "\n",
    "grd_stdn_df['Total Grade'] = None"
   ]
  },
  {
   "cell_type": "code",
   "execution_count": 4,
   "id": "b5e43c57-a2da-4e90-9180-32d40ae5adff",
   "metadata": {},
   "outputs": [
    {
     "data": {
      "text/plain": [
       "{0: 'Timestamp',\n",
       " 1: 'Email address',\n",
       " 2: 'First Name',\n",
       " 3: 'Last Name',\n",
       " 4: 'Age',\n",
       " 5: 'Nationality',\n",
       " 6: 'In case you are selected, where would you be traveling from to Rwanda?',\n",
       " 7: 'Gender',\n",
       " 8: 'What is your highest degree of education?',\n",
       " 9: 'What is your current career stage?',\n",
       " 10: 'Which group of studies best describes your background?',\n",
       " 11: 'Name of current University/Research Institution/Organization (e.g. Department of Biomedical Engineering, CMU-Africa, Kigali, Rwanda)',\n",
       " 12: 'Field of studies in Undergraduate (completed or ongoing, eg. Neuroscience, Mathematics, Law)',\n",
       " 13: 'Field of studies in Master’s (if applicable, completed or ongoing, eg. Neuroscience, Mathematics, Law)',\n",
       " 14: 'Field of studies in PhD/MD degree (if applicable, completed or ongoing, eg. Neuroscience, Mathematics, Law)',\n",
       " 15: 'Current research focus or research focus of the last research project you were engaged in (if applicable)',\n",
       " 16: 'Rate your proficiency of computer programming (with any programming language)',\n",
       " 17: 'Rate your proficiency in Python',\n",
       " 18: 'What is your familiarity with neuroscience?',\n",
       " 19: 'What is your familiarity with machine learning?',\n",
       " 20: 'Why do you want to attend TReND Course in Computational Neuroscience and Machine Learning Basics as a student? Briefly tell us about your educational background, research interests, motivation, and expected benefit of attending (max. 300 words)',\n",
       " 21: 'How do you think you could contribute to the course? (max. 300 words)',\n",
       " 22: 'At the end of the first week the students will start a short individual research project. What would be your dream project? (max. 300 words)',\n",
       " 23: 'Please attach a 1-page CV in pdf format (documents longer than one page will be discarded). If you have trouble attaching the file, please send it to compneuroai@trendinafrica.org with the name name_surname_CV.pdf',\n",
       " 24: 'First referee name/institution',\n",
       " 25: 'First referee email',\n",
       " 26: 'Second referee name/institution',\n",
       " 27: 'Second referee email',\n",
       " 28: 'Total Grade'}"
      ]
     },
     "execution_count": 4,
     "metadata": {},
     "output_type": "execute_result"
    }
   ],
   "source": [
    "# Use this dictionary as a reference for column names.\n",
    "\n",
    "qs_dict = {i: column for i, column in enumerate(grd_stdn_df.columns)}\n",
    "qs_dict"
   ]
  },
  {
   "cell_type": "code",
   "execution_count": 5,
   "id": "8f93a1ca-6a1b-430a-a563-7f54660a2c46",
   "metadata": {},
   "outputs": [],
   "source": [
    "# Used indices of the student responses DataFrame\n",
    "\n",
    "stdn_idcs = {\n",
    "    'email_idx' : 1,\n",
    "    'firstname_idx' : 2,\n",
    "    'lastname_idx' : 3,\n",
    "    'ref' : {\n",
    "        'first_ref_email_idx' : 25,\n",
    "        'second_ref_email_idx' : 27\n",
    "          },\n",
    "    'flag_idx' : 28,\n",
    "    'notes_idx' : 29,\n",
    "    'first_recomm_letter_idx' : 30,\n",
    "    'second_recomm_letter_idx' : 31,\n",
    "    'grade_idx': 28\n",
    "}\n",
    "\n",
    "stdn_str_qs = [stdn_idcs['email_idx'], stdn_idcs['firstname_idx'], stdn_idcs['lastname_idx']]\n",
    "\n",
    "# Carefully specify names of the columns to be processed (mostly responses for essay questions).\n",
    "skills_qs = [16, 17, 18, 19]\n",
    "\n",
    "# Carefully specify names of the columns to be processed (mostly responses for essay questions).\n",
    "essay_qs = [20, 21, 22]\n",
    "\n",
    "grd_qs = skills_qs + essay_qs"
   ]
  },
  {
   "cell_type": "code",
   "execution_count": 6,
   "id": "69811a8e-9402-4cd8-bae6-f55da88814d5",
   "metadata": {},
   "outputs": [],
   "source": [
    "skills_qs_dict = {\n",
    "    \n",
    "    16: {\n",
    "        'Have not done any computer programming': 2,\n",
    "        'Learned some, edited scripts': 4,\n",
    "        'Have written my own sets of code': 6,\n",
    "        'Have written my own complete programs': 8,\n",
    "        'I am completely comfortable writing my own programs': 10\n",
    "        \n",
    "    },\n",
    "    \n",
    "    17: {\n",
    "        'Have not touched Python yet': 2,\n",
    "        'Learned some, edited scripts': 4,\n",
    "        'Have written my own sets of code': 6,\n",
    "        'Have written my own complete programs': 8,\n",
    "        'I am completely comfortable writing my own programs': 10\n",
    "    },\n",
    "    \n",
    "    18: {\n",
    "        'Have read a bit': 2,\n",
    "        'Have taken an introductory course': 4,\n",
    "        'Have taken several courses': 6,\n",
    "        'Have taken courses and am studying it': 8,\n",
    "        'Extensive experience for 4+ years': 10\n",
    "    },\n",
    "    \n",
    "    19: {\n",
    "        'Have read a bit': 2,\n",
    "        'Have taken an introductory course': 4,\n",
    "        'Have taken several courses': 6,\n",
    "        'Have taken courses and am studying it': 8,\n",
    "        'Extensive experience for 4+ years': 10\n",
    "    }\n",
    "\n",
    "}"
   ]
  },
  {
   "cell_type": "code",
   "execution_count": 7,
   "id": "f835beae-9bf9-4557-9ec1-ded5ebf1f980",
   "metadata": {},
   "outputs": [],
   "source": [
    "def column_names_to_indices(df, indices_dict):\n",
    "    \"\"\"\n",
    "    Replaces column names with indices.\n",
    "    \"\"\"\n",
    "    processed_df = df.rename(columns={column: i for i, column in enumerate(indices_dict.values())})\n",
    "\n",
    "    return processed_df\n",
    "\n",
    "\n",
    "def indices_to_column_names(df, indices_dict):\n",
    "    \"\"\"\n",
    "    Replaces indices with column names.\n",
    "    \"\"\"\n",
    "    processed_df = df.rename(columns={i: column for i, column in enumerate(indices_dict.values())})\n",
    "\n",
    "    return processed_df\n",
    "\n",
    "\n",
    "def calc_grade(grd_stdn_df):\n",
    "    \n",
    "    for row_idx in range(len(grd_stdn_df)):\n",
    "        grds = []\n",
    "        \n",
    "        for q in skills_qs:\n",
    "            grd = float(skills_qs_dict[q][grd_stdn_df.iloc[row_idx, q]])\n",
    "            grds.append(grd)\n",
    "            \n",
    "        for q in essay_qs:\n",
    "            grd = float(grd_stdn_df.iloc[row_idx, q])\n",
    "            grds.append(grd)\n",
    "            \n",
    "        total_grd = float(round(sum(grds) / len(grds), 2))\n",
    "        grd_stdn_df.iloc[row_idx, stdn_idcs['grade_idx']] = total_grd\n",
    "            \n",
    "    return grd_stdn_df\n",
    " "
   ]
  },
  {
   "cell_type": "code",
   "execution_count": 8,
   "id": "4af91cb0-0a08-4d7a-9176-d161eddf39a7",
   "metadata": {},
   "outputs": [],
   "source": [
    "def main(grd_stdn_df):\n",
    "    \n",
    "    grd_stdn_df = column_names_to_indices(grd_stdn_df, qs_dict)\n",
    "    grd_stdn_df_graded = calc_grade(grd_stdn_df)\n",
    "    grd_stdn_df_named = indices_to_column_names(grd_stdn_df_graded, qs_dict)\n",
    "    \n",
    "    return grd_stdn_df_graded"
   ]
  },
  {
   "cell_type": "code",
   "execution_count": 9,
   "id": "512fc018-3bc6-45be-9fa3-54269ffc933a",
   "metadata": {},
   "outputs": [],
   "source": [
    "grd_stdn_df_graded = main(grd_stdn_df)"
   ]
  },
  {
   "cell_type": "code",
   "execution_count": 12,
   "id": "e0ec05b7-b170-48da-9671-967ae63d5e86",
   "metadata": {},
   "outputs": [
    {
     "data": {
      "text/plain": [
       "0     7.14\n",
       "1     5.43\n",
       "2     5.57\n",
       "3     7.57\n",
       "4     3.57\n",
       "5     6.14\n",
       "6     5.71\n",
       "7     6.43\n",
       "8     5.71\n",
       "9     6.71\n",
       "10    5.29\n",
       "11    5.43\n",
       "12    4.71\n",
       "13    4.71\n",
       "14    4.71\n",
       "15     5.0\n",
       "16    5.43\n",
       "17    9.14\n",
       "18    6.57\n",
       "19    7.14\n",
       "20     6.0\n",
       "21    5.57\n",
       "22    4.71\n",
       "23     5.0\n",
       "24     5.0\n",
       "25     4.0\n",
       "26    5.29\n",
       "27    4.57\n",
       "28     5.0\n",
       "29     7.0\n",
       "30    5.71\n",
       "31    5.86\n",
       "32    4.71\n",
       "33    6.14\n",
       "34    8.14\n",
       "35    6.29\n",
       "36    8.57\n",
       "Name: 28, dtype: object"
      ]
     },
     "execution_count": 12,
     "metadata": {},
     "output_type": "execute_result"
    }
   ],
   "source": [
    "grd_stdn_df_graded.iloc[:, stdn_idcs['grade_idx']]"
   ]
  },
  {
   "cell_type": "code",
   "execution_count": null,
   "id": "307c28f6-4e24-4927-807a-e54de6b43fae",
   "metadata": {},
   "outputs": [],
   "source": []
  }
 ],
 "metadata": {
  "kernelspec": {
   "display_name": "Python [conda env:root] *",
   "language": "python",
   "name": "conda-root-py"
  },
  "language_info": {
   "codemirror_mode": {
    "name": "ipython",
    "version": 3
   },
   "file_extension": ".py",
   "mimetype": "text/x-python",
   "name": "python",
   "nbconvert_exporter": "python",
   "pygments_lexer": "ipython3",
   "version": "3.9.13"
  }
 },
 "nbformat": 4,
 "nbformat_minor": 5
}
