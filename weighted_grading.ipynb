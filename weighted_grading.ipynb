{
 "cells": [
  {
   "cell_type": "markdown",
   "id": "d02ab61b-1c4d-4f32-8b88-b920253a508e",
   "metadata": {},
   "source": [
    "# Applications Weighted Grading Automation\n",
    "\n",
    "The main objecctive of this code is to automate the process of calculating the overall weighted grade of students' responses, from the weights and grades given to each question from the graded questions."
   ]
  },
  {
   "cell_type": "code",
   "execution_count": null,
   "id": "c6ae4d35-1b4c-4312-8eb0-be66961d5b9a",
   "metadata": {},
   "outputs": [],
   "source": []
  }
 ],
 "metadata": {
  "kernelspec": {
   "display_name": "Python [conda env:root] *",
   "language": "python",
   "name": "conda-root-py"
  },
  "language_info": {
   "codemirror_mode": {
    "name": "ipython",
    "version": 3
   },
   "file_extension": ".py",
   "mimetype": "text/x-python",
   "name": "python",
   "nbconvert_exporter": "python",
   "pygments_lexer": "ipython3",
   "version": "3.9.13"
  }
 },
 "nbformat": 4,
 "nbformat_minor": 5
}
