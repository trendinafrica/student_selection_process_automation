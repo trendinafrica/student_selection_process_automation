{
 "cells": [
  {
   "cell_type": "markdown",
   "id": "86648c93-943b-4148-be8c-b86c23072b5a",
   "metadata": {},
   "source": [
    "# Applications processing Automation\n",
    "\n",
    "The purpose of this code is to automate the first trivial filtering steps in the processing of the applications for the TReND in Africa Computational Neuroscience and Machine Learning Basics course.\n",
    "\n",
    "This code is organized as a set of functions to be applied as a processing pipeline on the application responses data (See [documentation](https://docs.google.com/document/d/1n4pMEOgMuenuFpN6zXQtZlpYFXwPat2P4-SzZaN8mFg/edit?usp=drivesdk)).\n",
    "\n",
    "### **How to use (as a developer):**\n",
    "Just clone the Github repository and get into the business!\\\n",
    "If you have anaconda and yupyter installed locally you can just clone the repory directly on your machine. Elsewise, you can clone it into Google Colab.\n",
    "(In either case, don't forget to regularly pull and push changes).\n",
    "\n",
    "### **How to use (as a reviewer):**\n",
    "If you are on Github now, open this notebook in Google Colab, or clone the whole repo locally, so you can run the cells. In case of running it in Colab, don't forget to save and download the resulting Excel sheet of the processed responses into a local folder."
   ]
  },
  {
   "cell_type": "code",
   "execution_count": 93,
   "id": "d5561a65-902a-424b-bc94-4b417849e29e",
   "metadata": {
    "tags": []
   },
   "outputs": [],
   "source": [
    "import numpy as np\n",
    "import pandas as pd"
   ]
  },
  {
   "cell_type": "code",
   "execution_count": 94,
   "id": "8b154dc7-4f8f-4d8f-8417-5108fb288621",
   "metadata": {},
   "outputs": [
    {
     "data": {
      "text/plain": [
       "Index(['Timestamp', 'Email address', 'First Name', 'Last Name', 'Unnamed: 4',\n",
       "       'Unnamed: 5', 'Unnamed: 6', 'Career Stage',\n",
       "       'Name of current University or Research Institution',\n",
       "       'Undergraduate degree (completed or ongoing, eg. Neuroscience, Mathematics)',\n",
       "       'Master's degree (completed or ongoing, if applicable, eg. Neuroscience, Mathematics)',\n",
       "       'PhD degree (completed or ongoing, if applicable, eg. Neuroscience, Mathematics)',\n",
       "       'Current research focus or research focus of the last research project you were engaged in (if applicable)',\n",
       "       'Why would you like to attend the course? (2000 characters max)',\n",
       "       'How do you think you could contribute to the course?  (2000 characters max)',\n",
       "       'At the end of the first week the students will start a short individual research project. What would be your dream project?  (2000 characters max)',\n",
       "       'Please attach a 1-page CV in pdf format (documents longer than one page will be discarded). If you have trouble attaching the file, please send it to compneuroai@trendinafrica.org with the name name_surname_CV.pdf',\n",
       "       'Evaluation of Students', 'flag', 'notes'],\n",
       "      dtype='object')"
      ]
     },
     "execution_count": 94,
     "metadata": {},
     "output_type": "execute_result"
    }
   ],
   "source": [
    "# Note that you have to download the responses data Excel sheet from Google Drive and put it in the same folder as the code.\n",
    "# You don't have to do this if you cloned the Github repo (all will be organized in the repo).\n",
    "\n",
    "# TODO: Load data directly from Google Drive.\n",
    "\n",
    "#DATA_DIR = './Copy of Answers_Application_form_TReND_Comp_Neuro_FIRSTPASS.xlsx'\n",
    "DATA_DIR = './dummy_responses_data.xlsx'\n",
    "\n",
    "raw_responses_df = pd.read_excel(DATA_DIR)\n",
    "\n",
    "# Adding two columns to the responses DataFrame (initialized with None for all cells).\n",
    "raw_responses_df['flag'] = None  #String (\"flagged\" or None\n",
    "raw_responses_df['notes'] = None #String (Text of notes == reasaons for flagging)\n",
    "\n",
    "raw_responses_df.columns"
   ]
  },
  {
   "cell_type": "code",
   "execution_count": 95,
   "id": "ef57ab8a-3870-4752-9ab7-edb7c6dce504",
   "metadata": {},
   "outputs": [
    {
     "data": {
      "text/plain": [
       "{0: 'Timestamp',\n",
       " 1: 'Email address',\n",
       " 2: 'First Name',\n",
       " 3: 'Last Name',\n",
       " 4: 'Unnamed: 4',\n",
       " 5: 'Unnamed: 5',\n",
       " 6: 'Unnamed: 6',\n",
       " 7: 'Career Stage',\n",
       " 8: 'Name of current University or Research Institution',\n",
       " 9: 'Undergraduate degree (completed or ongoing, eg. Neuroscience, Mathematics)',\n",
       " 10: \"Master's degree (completed or ongoing, if applicable, eg. Neuroscience, Mathematics)\",\n",
       " 11: 'PhD degree (completed or ongoing, if applicable, eg. Neuroscience, Mathematics)',\n",
       " 12: 'Current research focus or research focus of the last research project you were engaged in (if applicable)',\n",
       " 13: 'Why would you like to attend the course? (2000 characters max)',\n",
       " 14: 'How do you think you could contribute to the course?  (2000 characters max)',\n",
       " 15: 'At the end of the first week the students will start a short individual research project. What would be your dream project?  (2000 characters max)',\n",
       " 16: 'Please attach a 1-page CV in pdf format (documents longer than one page will be discarded). If you have trouble attaching the file, please send it to compneuroai@trendinafrica.org with the name name_surname_CV.pdf',\n",
       " 17: 'Evaluation of Students',\n",
       " 18: 'flag',\n",
       " 19: 'notes'}"
      ]
     },
     "execution_count": 95,
     "metadata": {},
     "output_type": "execute_result"
    }
   ],
   "source": [
    "# Use this dictionary as a reference for column names.\n",
    "\n",
    "questions_dic = {i: column for i, column in enumerate(raw_responses_df.columns)}\n",
    "questions_dic"
   ]
  },
  {
   "cell_type": "code",
   "execution_count": 96,
   "id": "7c1e45a6-24aa-461b-b653-cab3d48737cb",
   "metadata": {},
   "outputs": [
    {
     "data": {
      "text/plain": [
       "Index([0, 1, 2, 3, 4, 5, 6, 7, 8, 9, 10, 11, 12, 13, 14, 15, 16, 17, 18, 19], dtype='int64')"
      ]
     },
     "execution_count": 96,
     "metadata": {},
     "output_type": "execute_result"
    }
   ],
   "source": [
    "# Replpace column names with indices.\n",
    "\n",
    "responses_df = raw_responses_df.rename(columns={column: i for i, column in enumerate(questions_dic.values())})\n",
    "responses_df.columns"
   ]
  },
  {
   "cell_type": "code",
   "execution_count": 97,
   "id": "9765daba-961b-4024-bced-95847f8cd825",
   "metadata": {},
   "outputs": [],
   "source": [
    "# Carefully specify names of the columns to be processed (mostly responses for essay questions).\n",
    "\n",
    "# TODO: To avoid any naming mistakes, replace questions, as columns names, with a key (or simply, indices).\n",
    "\n",
    "essay_qs = [13, 14, 15]"
   ]
  },
  {
   "cell_type": "code",
   "execution_count": 98,
   "id": "c098d061-c2d2-41e7-8ae9-fc7f8f640ea7",
   "metadata": {},
   "outputs": [],
   "source": [
    "# Specify the minimum and maximun number of words for ansewrs for essay questions.\n",
    "# Note: These parameters apply for for all essay questions.\n",
    "\n",
    "MIN_WORDS_NUM = 50\n",
    "MAX_WORDS_NUM = 2000"
   ]
  },
  {
   "cell_type": "markdown",
   "id": "44138fe5-309e-4f87-ad94-532b52df55d3",
   "metadata": {},
   "source": [
    "## Utility functions"
   ]
  },
  {
   "cell_type": "code",
   "execution_count": 99,
   "id": "9eb2db56-8054-4e0f-9ec9-0748f2937a95",
   "metadata": {},
   "outputs": [],
   "source": [
    "def word_count(answer):\n",
    "    \"\"\"\n",
    "    Takes a specific answer (cell) of a specific essay question and returns the answer's number of words.\n",
    "    \"\"\"\n",
    "    \n",
    "    return len(answer.split())\n",
    "\n",
    "\n",
    "def set_flag(responses_df, email):\n",
    "    \"\"\"\n",
    "    Set the 'flag' column value to \"flagged\" for a response chosen by it's 'Email address'\n",
    "    \"\"\"\n",
    "    \n",
    "    # This modifies the DataFrame itself (i.e change in place)\n",
    "    # # 1 - 'Email address' column, 18 = 'flag' column\n",
    "    responses_df.loc[responses_df[1] == email, 18] = \"flagged\""
   ]
  },
  {
   "cell_type": "markdown",
   "id": "02a1215f-aea3-47ee-a4e2-a91410822c4a",
   "metadata": {},
   "source": [
    "## Main Pipeline"
   ]
  },
  {
   "cell_type": "code",
   "execution_count": 100,
   "id": "b93f7967-a7e6-47a4-a80c-aa765259dd75",
   "metadata": {},
   "outputs": [],
   "source": [
    "def remove_duplicates(responses_df):\n",
    "    \"\"\"\n",
    "    removes duplicated rows (responses) based on 'Email address' and keeps the last response submitted.\n",
    "    Note: Some students may make changes to their responses and submit a new one,\n",
    "    this's why this function keeps the last response submitted and removes preceding ones.\n",
    "    \n",
    "    TODO: Check with the organizers what else is an adequate action.\n",
    "    \n",
    "    params :\n",
    "        response_df: the responses data (DataFrame)\n",
    "    returns:\n",
    "        edited_responses_df: An edited response_df with duplicates removed\n",
    "    \"\"\"\n",
    "    edited_responses_df = responses_df.copy()\n",
    "    \n",
    "    # 1 - 'Email address' column\n",
    "    edited_responses_df.drop_duplicates(subset=[1], keep='last')\n",
    "    \n",
    "    return edited_responses_df\n",
    "\n",
    "\n",
    "def flag_duplicates(responses_df):\n",
    "    \"\"\"\n",
    "    flags duplicated rows (responses) based on 'Email address' and keeps the last response submitted.\n",
    "    Note: Some students may make changes to their responses and submit a new one,\n",
    "    this's why this function keeps the last response submitted and removes preceding ones.\n",
    "    \n",
    "    TODO: Check with the organizers what else is an adequate action.\n",
    "    \n",
    "    params :\n",
    "        response_df: the responses data (DataFrame)\n",
    "    returns:\n",
    "        edited_responses_df: An edited responses_df with 'flag' column updated\n",
    "    \"\"\"\n",
    "    \n",
    "    edited_responses_df = responses_df.copy()\n",
    "    \n",
    "    # 18 = 'flag' column, 19 = 'notes' column\n",
    "    edited_responses_df[18], edited_responses_df[19] = np.where(\n",
    "        \n",
    "        # True/False nupmy array (True: duplicated, False: unique)\n",
    "        [edited_responses_df.duplicated(subset=[1], keep='last')].array,\n",
    "        \n",
    "        # Update row values if the corresponding True/False array element is True\n",
    "        ['flagged', edited_responses_df[19] + \" - \" + \"A duplicated response\" + \" - \"],\n",
    "        \n",
    "        # Leave row values as they were if the corresponding True/False array element is False\n",
    "        [edited_responses_df[18], edited_responses_df[19]]\n",
    "    )\n",
    "    \n",
    "    return edited_responses_df\n",
    "\n",
    "\n",
    "def flag_short(responses_df, essay_qs):\n",
    "    \"\"\"\n",
    "    flags insufficently short answers (less than a specific lower limit) for a specified\n",
    "    set of essay questions.\n",
    "    \n",
    "    params :\n",
    "        response_df: the responses data (DataFrame)\n",
    "        essay_qs   : essay questions (list)\n",
    "    returns:\n",
    "        edited_responses_df: An edited responses_df with short answers removed\n",
    "    \"\"\"\n",
    "    \n",
    "    edited_responses_df = responses_df.copy()\n",
    "     \n",
    "    # Go through all the responses and for each response go through the answers for the essay questions\n",
    "    for index, response in edited_responses_df.iterrows():\n",
    "        for question in essay_qs:\n",
    "            \n",
    "            if response[question] < MIN_WORDS_NUM:\n",
    "                responses[18] = \"flagged\"\n",
    "                \n",
    "                if \"Insufficient short answer/s\" not in responses[19]:\n",
    "                    responses[19] = responses_df['notes'] + \" - \" + \"Insufficient short answer/s\" + \" - \"\n",
    "                    \n",
    "\n",
    "# Should we flag long answers ??\n",
    "def flag_long(responses_df, essay_qs):\n",
    "    \"\"\"\n",
    "    flags extremely long answers (more than a specific upprt limit) for a specified\n",
    "    set of essay questions.\n",
    "    \n",
    "    params :\n",
    "        response_df: the responses data (DataFrame)\n",
    "        essay_qs   : essay questions (list)\n",
    "    returns:\n",
    "        edited_response_df: An edited responses_df with long answers removed\n",
    "    \"\"\"\n",
    "     \n",
    "    edited_responses_df = responses_df.copy()\n",
    "    \n",
    "    # Go through all the responses and for each response go through the answers for the essay questions\n",
    "    for index, response in edited_responses_df.iterrows():\n",
    "        for question in essay_qs:\n",
    "            \n",
    "            if response[question] < MAX_WORDS_NUM:\n",
    "                responses[18] = \"flagged\"\n",
    "                \n",
    "                if \"Extremely long answer/s\" not in responses[19]:\n",
    "                    responses[19] = responses_df[19] + \" - \" + \"Extremely lomg answer/s\" + \" - \"\n",
    "                    \n",
    "    return edited_responses_df"
   ]
  },
  {
   "cell_type": "code",
   "execution_count": 101,
   "id": "5ba4a394-2064-4a47-872e-c9b9abe32dfb",
   "metadata": {},
   "outputs": [
    {
     "ename": "AttributeError",
     "evalue": "'list' object has no attribute 'array'",
     "output_type": "error",
     "traceback": [
      "\u001b[1;31m---------------------------------------------------------------------------\u001b[0m",
      "\u001b[1;31mAttributeError\u001b[0m                            Traceback (most recent call last)",
      "Cell \u001b[1;32mIn[101], line 1\u001b[0m\n\u001b[1;32m----> 1\u001b[0m responses_df_flagged_duplicates \u001b[38;5;241m=\u001b[39m \u001b[43mflag_duplicates\u001b[49m\u001b[43m(\u001b[49m\u001b[43mresponses_df\u001b[49m\u001b[43m)\u001b[49m\n",
      "Cell \u001b[1;32mIn[100], line 42\u001b[0m, in \u001b[0;36mflag_duplicates\u001b[1;34m(responses_df)\u001b[0m\n\u001b[0;32m     36\u001b[0m edited_responses_df \u001b[38;5;241m=\u001b[39m responses_df\u001b[38;5;241m.\u001b[39mcopy()\n\u001b[0;32m     38\u001b[0m \u001b[38;5;66;03m# 18 = 'flag' column, 19 = 'notes' column\u001b[39;00m\n\u001b[0;32m     39\u001b[0m edited_responses_df[\u001b[38;5;241m18\u001b[39m], edited_responses_df[\u001b[38;5;241m19\u001b[39m] \u001b[38;5;241m=\u001b[39m np\u001b[38;5;241m.\u001b[39mwhere(\n\u001b[0;32m     40\u001b[0m     \n\u001b[0;32m     41\u001b[0m     \u001b[38;5;66;03m# True/False nupmy array (True: duplicated, False: unique)\u001b[39;00m\n\u001b[1;32m---> 42\u001b[0m     \u001b[43m[\u001b[49m\u001b[43medited_responses_df\u001b[49m\u001b[38;5;241;43m.\u001b[39;49m\u001b[43mduplicated\u001b[49m\u001b[43m(\u001b[49m\u001b[43msubset\u001b[49m\u001b[38;5;241;43m=\u001b[39;49m\u001b[43m[\u001b[49m\u001b[38;5;241;43m1\u001b[39;49m\u001b[43m]\u001b[49m\u001b[43m,\u001b[49m\u001b[43m \u001b[49m\u001b[43mkeep\u001b[49m\u001b[38;5;241;43m=\u001b[39;49m\u001b[38;5;124;43m'\u001b[39;49m\u001b[38;5;124;43mlast\u001b[39;49m\u001b[38;5;124;43m'\u001b[39;49m\u001b[43m)\u001b[49m\u001b[43m]\u001b[49m\u001b[38;5;241;43m.\u001b[39;49m\u001b[43marray\u001b[49m,\n\u001b[0;32m     43\u001b[0m     \n\u001b[0;32m     44\u001b[0m     \u001b[38;5;66;03m# Update row values if the corresponding True/False array element is True\u001b[39;00m\n\u001b[0;32m     45\u001b[0m     [\u001b[38;5;124m'\u001b[39m\u001b[38;5;124mflagged\u001b[39m\u001b[38;5;124m'\u001b[39m, edited_responses_df[\u001b[38;5;241m19\u001b[39m] \u001b[38;5;241m+\u001b[39m \u001b[38;5;124m\"\u001b[39m\u001b[38;5;124m - \u001b[39m\u001b[38;5;124m\"\u001b[39m \u001b[38;5;241m+\u001b[39m \u001b[38;5;124m\"\u001b[39m\u001b[38;5;124mA duplicated response\u001b[39m\u001b[38;5;124m\"\u001b[39m \u001b[38;5;241m+\u001b[39m \u001b[38;5;124m\"\u001b[39m\u001b[38;5;124m - \u001b[39m\u001b[38;5;124m\"\u001b[39m],\n\u001b[0;32m     46\u001b[0m     \n\u001b[0;32m     47\u001b[0m     \u001b[38;5;66;03m# Leave row values as they were if the corresponding True/False array element is False\u001b[39;00m\n\u001b[0;32m     48\u001b[0m     [edited_responses_df[\u001b[38;5;241m18\u001b[39m], edited_responses_df[\u001b[38;5;241m19\u001b[39m]]\n\u001b[0;32m     49\u001b[0m )\n\u001b[0;32m     51\u001b[0m \u001b[38;5;28;01mreturn\u001b[39;00m edited_responses_df\n",
      "\u001b[1;31mAttributeError\u001b[0m: 'list' object has no attribute 'array'"
     ]
    }
   ],
   "source": [
    "responses_df_flagged_duplicates = flag_duplicates(responses_df)"
   ]
  },
  {
   "cell_type": "code",
   "execution_count": 102,
   "id": "6a142d8c-136b-4612-a5dc-de23b955422d",
   "metadata": {},
   "outputs": [],
   "source": [
    "test_df = responses_df.duplicated(subset=[1], keep='last')"
   ]
  },
  {
   "cell_type": "code",
   "execution_count": 103,
   "id": "7a2b809d-7d08-4a75-89df-2fb264e57140",
   "metadata": {},
   "outputs": [
    {
     "data": {
      "text/plain": [
       "<NumpyExtensionArray>\n",
       "[ True,  True, False, False, False, False, False, False, False, False, False,\n",
       " False,  True,  True, False, False, False, False, False]\n",
       "Length: 19, dtype: bool"
      ]
     },
     "execution_count": 103,
     "metadata": {},
     "output_type": "execute_result"
    }
   ],
   "source": [
    "test_df.array"
   ]
  },
  {
   "cell_type": "code",
   "execution_count": 104,
   "id": "f7950b55-f865-4f84-97bd-d301965fbe0b",
   "metadata": {},
   "outputs": [
    {
     "data": {
      "text/plain": [
       "(2, 1, 19)"
      ]
     },
     "execution_count": 104,
     "metadata": {},
     "output_type": "execute_result"
    }
   ],
   "source": [
    "np.array([[test_df], [test_df]]).shape"
   ]
  },
  {
   "cell_type": "code",
   "execution_count": 105,
   "id": "928edc6b-19c8-4d67-b9d2-f77edf5e854d",
   "metadata": {},
   "outputs": [
    {
     "data": {
      "text/plain": [
       "array([[[ True,  True, False, False, False, False, False, False, False,\n",
       "         False, False, False,  True,  True, False, False, False, False,\n",
       "         False]],\n",
       "\n",
       "       [[ True,  True, False, False, False, False, False, False, False,\n",
       "         False, False, False,  True,  True, False, False, False, False,\n",
       "         False]]])"
      ]
     },
     "execution_count": 105,
     "metadata": {},
     "output_type": "execute_result"
    }
   ],
   "source": [
    "np.array([[test_df], [test_df]])"
   ]
  },
  {
   "cell_type": "code",
   "execution_count": null,
   "id": "48a74cae-a959-421e-9195-91a4c7aa470f",
   "metadata": {},
   "outputs": [],
   "source": [
    "responses_df"
   ]
  },
  {
   "cell_type": "code",
   "execution_count": null,
   "id": "6ccc7b34-38b0-4dd6-8415-2e3e1900ad51",
   "metadata": {},
   "outputs": [],
   "source": [
    "def main(responses_df):\n",
    "    \n",
    "    responses_df_flagged_duplicates = flag_duplicates(responses_df)\n",
    "    responses_df_flagged_short = flag_short(responses_df_flagged_duplicates, essay_qs)\n",
    "    \n",
    "    final_responses_df = responses_df_flagged_short\n",
    "    \n",
    "    return final_responses_df"
   ]
  },
  {
   "cell_type": "code",
   "execution_count": null,
   "id": "198cd6be-8359-465c-afe4-1a3a3c478a5e",
   "metadata": {},
   "outputs": [],
   "source": []
  }
 ],
 "metadata": {
  "kernelspec": {
   "display_name": "Python [conda env:root] *",
   "language": "python",
   "name": "conda-root-py"
  },
  "language_info": {
   "codemirror_mode": {
    "name": "ipython",
    "version": 3
   },
   "file_extension": ".py",
   "mimetype": "text/x-python",
   "name": "python",
   "nbconvert_exporter": "python",
   "pygments_lexer": "ipython3",
   "version": "3.9.13"
  }
 },
 "nbformat": 4,
 "nbformat_minor": 5
}
