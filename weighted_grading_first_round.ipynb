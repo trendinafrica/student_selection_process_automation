{
 "cells": [
  {
   "cell_type": "markdown",
   "id": "d02ab61b-1c4d-4f32-8b88-b920253a508e",
   "metadata": {},
   "source": [
    "# Applications Weighted Grading Automation\n",
    "<a target=\"_blank\" href=\"https://colab.research.google.com/github/trendinafrica/student_selection_process_automation/blob/main/weighted_grading.ipynb\">\n",
    "  <img src=\"https://colab.research.google.com/assets/colab-badge.svg\" alt=\"Open In Colab\"/>\n",
    "</a>\n",
    "\n",
    "(*By: [@mahmoud-elmakki](https://github.com/mahmoud-elmakki)*)\n",
    "\n",
    "This stage is for calculating the average grade of a response from the grades given by multiple evaluatores. Each reviewer gives a general grade for each response.\n",
    "\n",
    "Also see [main.ipynb](https://github.com/trendinafrica/student_selection_process_automation/blob/main/main.ipynb), and [weighted_grading_second_round.ipynb](https://github.com/trendinafrica/student_selection_process_automation/blob/main/weighted_grading_second_round.ipynb)..\n",
    "\n",
    "### **How to use (as a developer):**\n",
    "Just clone the Github repository and get into the business!\\\n",
    "If you have anaconda and yupyter installed locally you can just clone the repory directly on your machine. Elsewise, you can clone it into Google Colab.\n",
    "(In either case, if you have any valuable contributions, don't hesitatte to do a Pull Request).\n",
    "\n",
    "### **How to use (as a reviewer):**\n",
    "If you are on Github now, open this notebook in Google Colab, or clone the whole repo locally, so you can run the cells. In case of running it in Colab, don't forget to save and download the resulting Excel sheet of the processed responses into a local folder."
   ]
  },
  {
   "cell_type": "code",
   "execution_count": null,
   "id": "c6ae4d35-1b4c-4312-8eb0-be66961d5b9a",
   "metadata": {},
   "outputs": [],
   "source": [
    "import numpy as np\n",
    "import pandas as pd\n",
    "\n",
    "import os"
   ]
  },
  {
   "cell_type": "code",
   "execution_count": null,
   "id": "cb2ac9c4-6e6f-4461-b75c-4bc65bca43f9",
   "metadata": {},
   "outputs": [],
   "source": [
    "# Note that you have to download the responses data Excel sheet from Google Drive and put it in the same folder as the code.\n",
    "# You don't have to do this if you cloned the Github repo (all will be organized in the repo).\n",
    " \n",
    "# TODO: Load data directly from Google Drive.\n",
    "\n",
    "# Loading students responses data\n",
    "REVD_STDN_DATA_DIR = './reviewed_responses/Mahmoud_and_Burak/reviewed_dummy_responses_Mahmoud_and_Burak.xlsx'\n",
    "reviewed_responses = pd.read_excel(REVD_STDN_DATA_DIR)\n",
    "\n",
    "reviewed_responses['Total Review'] = None\n",
    "\n",
    "# Just specify folder names - thje code will create the directory\n",
    "OUTPUT_FOLDER_NAME = \"first_grading_round_results\"\n",
    "OUTPUT_DIR = os.path.join(os.getcwd(), OUTPUT_FOLDER_NAME)\n",
    "\n",
    "if not os.path.exists(OUTPUT_DIR):\n",
    "    os.mkdir(OUTPUT_DIR)"
   ]
  },
  {
   "cell_type": "code",
   "execution_count": null,
   "id": "b5e43c57-a2da-4e90-9180-32d40ae5adff",
   "metadata": {},
   "outputs": [],
   "source": [
    "# Use this dictionary as a reference for column names.\n",
    "\n",
    "qs_dict = {i: column for i, column in enumerate(reviewed_responses.columns)}\n",
    "qs_dict"
   ]
  },
  {
   "cell_type": "code",
   "execution_count": null,
   "id": "8f93a1ca-6a1b-430a-a563-7f54660a2c46",
   "metadata": {},
   "outputs": [],
   "source": [
    "# Used indices of the student responses DataFrame\n",
    "\n",
    "std_idcs = {\n",
    "    'email_idx' : 1,\n",
    "    'firstname_idx' : 2,\n",
    "    'lastname_idx' : 3,\n",
    "    'nat_idx' : 5,\n",
    "    'resid_idx' : 6,\n",
    "    'cv_idx' : 23,\n",
    "    'ref' : {\n",
    "        'first_ref_email_idx' : 25,\n",
    "        'second_ref_email_idx' : 27\n",
    "          },\n",
    "    'flag_idx' : 28,\n",
    "    'notes_idx' : 29,\n",
    "    'first_recomm_letter_idx' : 30,\n",
    "    'second_recomm_letter_idx' : 31,\n",
    "    'reviewer_1_idx' : 32,\n",
    "    'reviewer_2_idx' : 33,\n",
    "    'total_review_idx' : 34\n",
    "    \n",
    "}\n",
    "\n",
    "stdn_str_qs = [std_idcs['email_idx'], std_idcs['firstname_idx'], std_idcs['lastname_idx']]\n",
    "\n",
    "# Carefully specify names of the columns to be processed (CV and recommendation letters).\n",
    "reviews_idcs = [std_idcs['reviewer_1_idx'], std_idcs['reviewer_2_idx']]\n",
    "reviews_ws = [1, 1]\n",
    "\n",
    "WEIGHTED_REVIEWING = False\n",
    "\n",
    "if not WEIGHTED_REVIEWING:\n",
    "    reviews_ws = [1, 1]\n",
    "\n",
    "# Number of students to be selected.\n",
    "TOP_N = 5\n",
    "\n",
    "if TOP_N > len(reviewed_responses):\n",
    "    TOP_N = len(reviewed_responses)"
   ]
  },
  {
   "cell_type": "code",
   "execution_count": null,
   "id": "f835beae-9bf9-4557-9ec1-ded5ebf1f980",
   "metadata": {},
   "outputs": [],
   "source": [
    "def column_names_to_indices(df, indices_dict):\n",
    "    \"\"\"\n",
    "    Replaces column names with indices.\n",
    "    \"\"\"\n",
    "    processed_df = df.rename(columns={column: i for i, column in enumerate(indices_dict.values())})\n",
    "\n",
    "    return processed_df\n",
    "\n",
    "\n",
    "def indices_to_column_names(df, indices_dict):\n",
    "    \"\"\"\n",
    "    Replaces indices with column names.\n",
    "    \"\"\"\n",
    "    processed_df = df.rename(columns={i: column for i, column in enumerate(indices_dict.values())})\n",
    "\n",
    "    return processed_df\n",
    "\n",
    "\n",
    "def calc_review(reviewed_responses, reviews=reviews_idcs, weights=reviews_ws):\n",
    "    \n",
    "    for row_index, row in reviewed_responses.iterrows():\n",
    "        reviews = []\n",
    "        \n",
    "        for rev in reviews_idcs:\n",
    "            review = float(reviewed_responses.iloc[row_index, rev])\n",
    "            reviews.append(review)\n",
    "        \n",
    "        weighted_reviews = [reviews[i] * weights[i] for i in range(len(reviews))]\n",
    "        total_review = float(round(sum(weighted_reviews) / sum(weights), 2))\n",
    "        reviewed_responses.iloc[row_index, std_idcs['total_review_idx']] = total_review\n",
    "            \n",
    "    return reviewed_responses\n",
    " "
   ]
  },
  {
   "cell_type": "code",
   "execution_count": null,
   "id": "4af91cb0-0a08-4d7a-9176-d161eddf39a7",
   "metadata": {},
   "outputs": [],
   "source": [
    "def main(reviewed_responses):\n",
    "    \n",
    "    reviewed_responses = column_names_to_indices(reviewed_responses, qs_dict)\n",
    "    reviewed_responses = calc_review(reviewed_responses)\n",
    "    reviewed_responses_sorted = reviewed_responses.sort_values(by = std_idcs['total_review_idx'], ascending = False)\n",
    "    \n",
    "    indices_to_column_names(reviewed_responses, qs_dict).to_excel(OUTPUT_FOLDER_NAME + \"/reviewed_responses.xlsx\")\n",
    "    \n",
    "    top_n_responses = reviewed_responses_sorted.iloc[:TOP_N, :]\n",
    "    \n",
    "    indices_to_column_names(top_n_responses, qs_dict).to_excel(OUTPUT_FOLDER_NAME + \"/top_n_reviewed_responses.xlsx\")\n",
    "    \n",
    "    return reviewed_responses, top_n_responses"
   ]
  },
  {
   "cell_type": "code",
   "execution_count": null,
   "id": "512fc018-3bc6-45be-9fa3-54269ffc933a",
   "metadata": {},
   "outputs": [],
   "source": [
    "reviewed_responses_final, top_n_responses = main(reviewed_responses)"
   ]
  },
  {
   "cell_type": "code",
   "execution_count": null,
   "id": "f05aab1f-41c9-4b17-8fba-3f99d25c8fbd",
   "metadata": {},
   "outputs": [],
   "source": [
    "reviewed_responses_final"
   ]
  },
  {
   "cell_type": "code",
   "execution_count": null,
   "id": "307c28f6-4e24-4927-807a-e54de6b43fae",
   "metadata": {},
   "outputs": [],
   "source": [
    "top_n_responses"
   ]
  },
  {
   "cell_type": "code",
   "execution_count": null,
   "id": "163a5d2b-ad46-4cb1-a741-c3a287f26cf7",
   "metadata": {},
   "outputs": [],
   "source": []
  },
  {
   "cell_type": "code",
   "execution_count": null,
   "id": "fddb3054-fef8-4ea8-9624-d9f9a5980e1e",
   "metadata": {},
   "outputs": [],
   "source": []
  }
 ],
 "metadata": {
  "kernelspec": {
   "display_name": "Python [conda env:root] *",
   "language": "python",
   "name": "conda-root-py"
  },
  "language_info": {
   "codemirror_mode": {
    "name": "ipython",
    "version": 3
   },
   "file_extension": ".py",
   "mimetype": "text/x-python",
   "name": "python",
   "nbconvert_exporter": "python",
   "pygments_lexer": "ipython3",
   "version": "3.9.13"
  }
 },
 "nbformat": 4,
 "nbformat_minor": 5
}
