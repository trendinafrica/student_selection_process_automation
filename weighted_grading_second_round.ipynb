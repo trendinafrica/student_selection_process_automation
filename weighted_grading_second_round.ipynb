{
 "cells": [
  {
   "cell_type": "markdown",
   "id": "d02ab61b-1c4d-4f32-8b88-b920253a508e",
   "metadata": {},
   "source": [
    "# Applications Weighted Grading Automation\n",
    "<a target=\"_blank\" href=\"https://colab.research.google.com/github/trendinafrica/student_selection_process_automation/blob/main/weighted_grading.ipynb\">\n",
    "  <img src=\"https://colab.research.google.com/assets/colab-badge.svg\" alt=\"Open In Colab\"/>\n",
    "</a>\n",
    "\n",
    "(*By: [@mahmoud-elmakki](https://github.com/mahmoud-elmakki)*)\n",
    "\n",
    "The main objecctive of this code is to automate the process of calculating the overall weighted grade of students' responses, from the weights and grades given to each question from the graded questions.\n",
    "\n",
    "Also see [main.ipynb](https://github.com/trendinafrica/student_selection_process_automation/blob/main/main.ipynb), and Also see [weighted_grading_first_round.ipynb](https://github.com/trendinafrica/student_selection_process_automation/blob/main/weighted_grading_first_round.ipynb)\n",
    "\n",
    "### **How to use (as a developer):**\n",
    "Just clone the Github repository and get into the business!\\\n",
    "If you have anaconda and yupyter installed locally you can just clone the repory directly on your machine. Elsewise, you can clone it into Google Colab.\n",
    "(In either case, if you have any valuable contributions, don't hesitatte to do a Pull Request).\n",
    "\n",
    "### **How to use (as a reviewer):**\n",
    "If you are on Github now, open this notebook in Google Colab, or clone the whole repo locally, so you can run the cells. In case of running it in Colab, don't forget to save and download the resulting Excel sheet of the processed responses into a local folder."
   ]
  },
  {
   "cell_type": "code",
   "execution_count": null,
   "id": "c6ae4d35-1b4c-4312-8eb0-be66961d5b9a",
   "metadata": {},
   "outputs": [],
   "source": [
    "import numpy as np\n",
    "import pandas as pd\n",
    "\n",
    "import os"
   ]
  },
  {
   "cell_type": "code",
   "execution_count": null,
   "id": "cb2ac9c4-6e6f-4461-b75c-4bc65bca43f9",
   "metadata": {},
   "outputs": [],
   "source": [
    "# Note that you have to download the responses data Excel sheet from Google Drive and put it in the same folder as the code.\n",
    "# You don't have to do this if you cloned the Github repo (all will be organized in the repo).\n",
    " \n",
    "# TODO: Load data directly from Google Drive.\n",
    "\n",
    "# Loading graded students responses by the first reviewer.\n",
    "REV_1_GRD_STDN_DATA_DIR = './graded_responses/Mahmoud_and_Burak/graded_dummy_responses_Mahmoud.xlsx'\n",
    "rev_1_graded_responses = pd.read_excel(REV_1_GRD_STDN_DATA_DIR)\n",
    "\n",
    "# Loading graded students responses by the second reviewer.\n",
    "REV_2_GRD_STDN_DATA_DIR = './graded_responses/Mahmoud_and_Burak/graded_dummy_responses_Burak.xlsx'\n",
    "rev_2_graded_responses = pd.read_excel(REV_2_GRD_STDN_DATA_DIR)\n",
    "\n",
    "REV_1 = 'Mahmoud'\n",
    "REV_2 = 'Burak'\n",
    "\n",
    "rev_1_graded_responses['Total Grade By ' + REV_1] = None\n",
    "rev_1_graded_responses['Total Grade By ' + REV_2] = None\n",
    "rev_1_graded_responses['Total Grade = (' + REV_1 + ' + ' + REV_2 + ') / 2'] = None\n",
    "\n",
    "rev_2_graded_responses['Total Grade By ' + REV_1] = None\n",
    "rev_2_graded_responses['Total Grade By ' + REV_2] = None\n",
    "rev_2_graded_responses['Total Grade = (' + REV_1 + ' + ' + REV_2 + ') / 2'] = None\n",
    "\n",
    "# Just specify folder names - thje code will create the directory\n",
    "OUTPUT_FOLDER_NAME = \"second_grading_round_results\"\n",
    "OUTPUT_DIR = os.path.join(os.getcwd(), OUTPUT_FOLDER_NAME)\n",
    "\n",
    "if not os.path.exists(OUTPUT_DIR):\n",
    "    os.mkdir(OUTPUT_DIR)"
   ]
  },
  {
   "cell_type": "code",
   "execution_count": null,
   "id": "b5e43c57-a2da-4e90-9180-32d40ae5adff",
   "metadata": {},
   "outputs": [],
   "source": [
    "# Use this dictionary as a reference for column names.\n",
    "\n",
    "if (rev_2_graded_responses.columns == rev_1_graded_responses.columns).all():\n",
    "    qs_dict = {i: column for i, column in enumerate(rev_1_graded_responses.columns)}\n",
    "\n",
    "else:\n",
    "    print(\"It won't work this way; \" + REV_1 + \" and \" + REV_2 + \" are using sheets with different structures.\" + \"\\nCheck if they, mistakingly, have changed the order of the columns.\")"
   ]
  },
  {
   "cell_type": "code",
   "execution_count": null,
   "id": "47e2630f-5e4e-4a7d-a05e-76c0b48b0e80",
   "metadata": {},
   "outputs": [],
   "source": [
    "(rev_2_graded_responses.columns == rev_1_graded_responses.columns).all()"
   ]
  },
  {
   "cell_type": "code",
   "execution_count": null,
   "id": "6c90b989-f81e-43a6-9a54-ef84c4a41748",
   "metadata": {},
   "outputs": [],
   "source": [
    "{i: column for i, column in enumerate(rev_1_graded_responses.columns)} == {i: column for i, column in enumerate(rev_1_graded_responses.columns)}"
   ]
  },
  {
   "cell_type": "code",
   "execution_count": null,
   "id": "a3155dd9-e17c-49f0-bb02-0d283c93968c",
   "metadata": {},
   "outputs": [],
   "source": [
    "rev_1_graded_responses.size == rev_1_graded_responses.size"
   ]
  },
  {
   "cell_type": "code",
   "execution_count": null,
   "id": "81a490f7-57a7-44be-9f15-b4dd8431737a",
   "metadata": {},
   "outputs": [],
   "source": [
    "qs_dict"
   ]
  },
  {
   "cell_type": "code",
   "execution_count": null,
   "id": "c5e4b44a-fcb7-44d7-b954-856582f6fa06",
   "metadata": {},
   "outputs": [],
   "source": [
    "# Used indices of the student responses DataFrame\n",
    "\n",
    "std_idcs = {\n",
    "    'email_idx' : 1,\n",
    "    'firstname_idx' : 2,\n",
    "    'lastname_idx' : 3,\n",
    "    'nat_idx' : 5,\n",
    "    'resid_idx' : 6,\n",
    "    'cv_idx' : 23,\n",
    "    'ref' : {\n",
    "        'first_ref_email_idx' : 25,\n",
    "        'second_ref_email_idx' : 27\n",
    "          },\n",
    "    'flag_idx' : 28,\n",
    "    'notes_idx' : 29,\n",
    "    'first_recomm_letter_idx' : 30,\n",
    "    'second_recomm_letter_idx' : 31,\n",
    "    REV_1 + '_idx' : 32,\n",
    "    REV_2 + '_idx' : 33,\n",
    "    'total_grade_idx' : 34\n",
    "}\n",
    "\n",
    "stdn_str_qs = [std_idcs['email_idx'], std_idcs['firstname_idx'], std_idcs['lastname_idx']]\n",
    "\n",
    "# Carefully specify names of the columns to be processed (essay questions).\n",
    "skills_qs = [16, 17, 18, 19]\n",
    "skills_qs_ws = [1, 1, 1, 1]\n",
    "\n",
    "# Carefully specify names of the columns to be processed (skill questions).\n",
    "essay_qs = [20, 21, 22]\n",
    "essay_qs_ws = [3, 3, 1]\n",
    "\n",
    "# Carefully specify names of the columns to be processed (CV and recommendation letters).\n",
    "docs = [23, 30, 31]\n",
    "docs_ws = [2, 1, 1]\n",
    "\n",
    "grd_qs = skills_qs + essay_qs + docs\n",
    "weights = skills_qs_ws + essay_qs_ws\n",
    "\n",
    "WEIGHTED_GRADING = True\n",
    "\n",
    "if not WEIGHTED_GRADING:\n",
    "    weights = [1, 1, 1, 1, 1, 1, 1]\n",
    "\n",
    "# Number of students to be selected.\n",
    "TOP_N = 5\n",
    "\n",
    "if TOP_N > len(rev_1_graded_responses):\n",
    "    TOP_N = len(rev_1_graded_responses)"
   ]
  },
  {
   "cell_type": "code",
   "execution_count": null,
   "id": "6097396e-8e55-4c76-a471-5c042f1ed159",
   "metadata": {},
   "outputs": [],
   "source": [
    "skills_qs_dict = {\n",
    "    \n",
    "    16: {\n",
    "        'Have not done any computer programming': 1,\n",
    "        'Learned some, edited scripts': 2.5,\n",
    "        'Have written my own sets of code': 4,\n",
    "        'Have written my own complete programs': 5.5,\n",
    "        'I am completely comfortable writing my own programs': 7\n",
    "        \n",
    "    },\n",
    "    \n",
    "    17: {\n",
    "        'Have not touched Python yet': 1,\n",
    "        'Learned some, edited scripts': 2.5,\n",
    "        'Have written my own sets of code': 4,\n",
    "        'Have written my own complete programs': 5.5,\n",
    "        'I am completely comfortable writing my own programs': 7\n",
    "    },\n",
    "    \n",
    "    18: {\n",
    "        'Have read a bit': 1,\n",
    "        'Have taken an introductory course': 2.5,\n",
    "        'Have taken several courses': 4,\n",
    "        'Have taken courses and am studying it': 5.5,\n",
    "        'Extensive experience for 4+ years': 7\n",
    "    },\n",
    "    \n",
    "    19: {\n",
    "        'Have read a bit': 1,\n",
    "        'Have taken an introductory course': 2.5,\n",
    "        'Have taken several courses': 4,\n",
    "        'Have taken courses and am studying it': 5.5,\n",
    "        'Extensive experience for 4+ years': 7\n",
    "    }\n",
    "\n",
    "}"
   ]
  },
  {
   "cell_type": "code",
   "execution_count": null,
   "id": "3db1b703-e0d1-42a2-9120-013467f30bab",
   "metadata": {},
   "outputs": [],
   "source": [
    "def column_names_to_indices(df, indices_dict):\n",
    "    \"\"\"\n",
    "    Replaces column names with indices.\n",
    "    \"\"\"\n",
    "    processed_df = df.rename(columns={column: i for i, column in enumerate(indices_dict.values())})\n",
    "\n",
    "    return processed_df\n",
    "\n",
    "\n",
    "def indices_to_column_names(df, indices_dict):\n",
    "    \"\"\"\n",
    "    Replaces indices with column names.\n",
    "    \"\"\"\n",
    "    processed_df = df.rename(columns={i: column for i, column in enumerate(indices_dict.values())})\n",
    "\n",
    "    return processed_df\n",
    "\n",
    "\n",
    "def calc_grade(graded_responses, reviewer):\n",
    "    \n",
    "    for row_index, row in graded_responses.iterrows():\n",
    "        grades = []\n",
    "        \n",
    "        for q in skills_qs:\n",
    "            grade = float(skills_qs_dict[q][graded_responses.iloc[row_index, q]])\n",
    "            grades.append(grade)\n",
    "            \n",
    "        for q in essay_qs:\n",
    "            grade = float(graded_responses.iloc[row_index, q])\n",
    "            grades.append(grade)\n",
    "        \n",
    "        weighted_grades = [grades[i] * weights[i] for i in range(len(grades))]\n",
    "        total_grade = float(round(sum(weighted_grades) / sum(weights), 2))\n",
    "        graded_responses.iloc[row_index, std_idcs[reviewer + '_idx']] = total_grade\n",
    "            \n",
    "    return graded_responses\n",
    " "
   ]
  },
  {
   "cell_type": "code",
   "execution_count": null,
   "id": "4af91cb0-0a08-4d7a-9176-d161eddf39a7",
   "metadata": {},
   "outputs": [],
   "source": [
    "def main(graded_responses, reviewer):\n",
    "    \n",
    "    graded_responses = column_names_to_indices(graded_responses, qs_dict)\n",
    "    graded_responses = calc_grade(graded_responses, reviewer)\n",
    "    \n",
    "    return graded_responses"
   ]
  },
  {
   "cell_type": "code",
   "execution_count": null,
   "id": "512fc018-3bc6-45be-9fa3-54269ffc933a",
   "metadata": {},
   "outputs": [],
   "source": [
    "rev_1_graded_responses_final = main(rev_1_graded_responses, REV_1)"
   ]
  },
  {
   "cell_type": "code",
   "execution_count": null,
   "id": "15759e57-e2cb-4089-a9aa-378fecc8b729",
   "metadata": {},
   "outputs": [],
   "source": [
    "rev_2_graded_responses_final = main(rev_2_graded_responses, REV_2)"
   ]
  },
  {
   "cell_type": "code",
   "execution_count": null,
   "id": "60a8bb9b-77d0-40c7-9f87-9925c5a40508",
   "metadata": {},
   "outputs": [],
   "source": [
    "rev_1_grade = rev_1_graded_responses_final[std_idcs[REV_1 + '_idx']].values\n",
    "rev_2_grade = rev_2_graded_responses_final[std_idcs[REV_2 + '_idx']].values\n",
    "\n",
    "total_grade = (rev_1_grade + rev_2_grade) / 2\n",
    "\n",
    "\n",
    "rev_1_graded_responses_final[std_idcs[REV_2 + '_idx']] = rev_2_grade\n",
    "rev_1_graded_responses_final[std_idcs['total_grade_idx']] = total_grade\n",
    "\n",
    "indices_to_column_names(rev_1_graded_responses_final, qs_dict).to_excel(OUTPUT_FOLDER_NAME + \"/graded_responses_\" + REV_1 + \".xlsx\")\n",
    "\n",
    "\n",
    "rev_2_graded_responses_final[std_idcs[REV_1 + '_idx']] = rev_1_grade\n",
    "rev_2_graded_responses_final[std_idcs['total_grade_idx']] = total_grade\n",
    "\n",
    "indices_to_column_names(rev_1_graded_responses_final, qs_dict).to_excel(OUTPUT_FOLDER_NAME + \"/graded_responses_\" + REV_2 + \".xlsx\")"
   ]
  },
  {
   "cell_type": "code",
   "execution_count": null,
   "id": "eaf90985-b1d3-438d-ac3f-a56b88cf70fb",
   "metadata": {},
   "outputs": [],
   "source": [
    "rev_1_graded_responses_sorted = rev_1_graded_responses_final.sort_values(by = std_idcs[REV_1 + '_idx'], ascending = False)\n",
    "rev_1_top_n_graded_responses = rev_1_graded_responses_sorted.iloc[:TOP_N, :]\n",
    "\n",
    "indices_to_column_names(rev_1_top_n_graded_responses, qs_dict).to_excel(OUTPUT_FOLDER_NAME + \"/top_n_graded_responses_\" + REV_1 + \".xlsx\")\n",
    "\n",
    "\n",
    "rev_2_graded_responses_sorted = rev_2_graded_responses_final.sort_values(by = std_idcs[REV_2 + '_idx'], ascending = False)\n",
    "rev_2_top_n_graded_responses = rev_2_graded_responses_sorted.iloc[:TOP_N, :]\n",
    "\n",
    "indices_to_column_names(rev_2_top_n_graded_responses, qs_dict).to_excel(OUTPUT_FOLDER_NAME + \"/top_n_graded_responses_\" + REV_2 + \".xlsx\")"
   ]
  },
  {
   "cell_type": "code",
   "execution_count": null,
   "id": "6c1cd4fc-142a-4302-b73f-55b5d01178fa",
   "metadata": {},
   "outputs": [],
   "source": [
    "top_n_graded_responses = rev_1_graded_responses_final.sort_values(by = std_idcs['total_grade_idx'], ascending = False).iloc[:TOP_N, :]\n",
    "\n",
    "indices_to_column_names(rev_2_top_n_graded_responses, qs_dict).to_excel(OUTPUT_FOLDER_NAME + \"/top_n_graded_responses.xlsx\")"
   ]
  },
  {
   "cell_type": "code",
   "execution_count": null,
   "id": "9d2c616a-0e61-4245-81a0-00ed55d71100",
   "metadata": {},
   "outputs": [],
   "source": [
    "rev_1_graded_responses_final.iloc[:, 16:].head(5)"
   ]
  },
  {
   "cell_type": "code",
   "execution_count": null,
   "id": "5bcb52b1-4cf2-49fc-bef8-923b6164bbb2",
   "metadata": {},
   "outputs": [],
   "source": [
    "rev_2_graded_responses_final.iloc[:, 16:].head(5)"
   ]
  },
  {
   "cell_type": "code",
   "execution_count": null,
   "id": "1bd14f25-487e-4c7f-80c1-ab0cdcb45b31",
   "metadata": {},
   "outputs": [],
   "source": [
    "rev_1_top_n_graded_responses.iloc[:, 16:].head(5)"
   ]
  },
  {
   "cell_type": "code",
   "execution_count": null,
   "id": "4ca4cf0b-4069-47c5-bcfc-9ef2efac3de8",
   "metadata": {},
   "outputs": [],
   "source": [
    "rev_2_top_n_graded_responses.iloc[:, 16:].head(5)"
   ]
  },
  {
   "cell_type": "code",
   "execution_count": null,
   "id": "c816d027-05e6-4768-bf02-67852f1d2474",
   "metadata": {},
   "outputs": [],
   "source": [
    "top_n_graded_responses.iloc[:, 16:].head(5)\n"
   ]
  },
  {
   "cell_type": "code",
   "execution_count": null,
   "id": "83adb9d6-18d5-4648-8a14-19eee720c03a",
   "metadata": {},
   "outputs": [],
   "source": []
  }
 ],
 "metadata": {
  "kernelspec": {
   "display_name": "Python [conda env:root] *",
   "language": "python",
   "name": "conda-root-py"
  },
  "language_info": {
   "codemirror_mode": {
    "name": "ipython",
    "version": 3
   },
   "file_extension": ".py",
   "mimetype": "text/x-python",
   "name": "python",
   "nbconvert_exporter": "python",
   "pygments_lexer": "ipython3",
   "version": "3.9.13"
  }
 },
 "nbformat": 4,
 "nbformat_minor": 5
}
